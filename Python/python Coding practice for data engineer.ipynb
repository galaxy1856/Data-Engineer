{
 "cells": [
  {
   "cell_type": "code",
   "execution_count": 2,
   "id": "ca1d392c",
   "metadata": {},
   "outputs": [
    {
     "name": "stdout",
     "output_type": "stream",
     "text": [
      "The HCF is 3\n"
     ]
    }
   ],
   "source": [
    "def compute_hcf(x,y):\n",
    "    while(y):\n",
    "        x,y=y,x%y\n",
    "    return x\n",
    "hcf=compute_hcf(12,15)\n",
    "print(\"The HCF is\", hcf)"
   ]
  },
  {
   "cell_type": "code",
   "execution_count": 4,
   "id": "0aaeae16",
   "metadata": {},
   "outputs": [
    {
     "name": "stdout",
     "output_type": "stream",
     "text": [
      "17\n",
      "1\n"
     ]
    }
   ],
   "source": [
    "n=34\n",
    "p=n//2\n",
    "print(p)\n",
    "p1=p%2\n",
    "\n",
    "print(p1)\n"
   ]
  },
  {
   "cell_type": "code",
   "execution_count": 1,
   "id": "a36beece",
   "metadata": {},
   "outputs": [
    {
     "name": "stdout",
     "output_type": "stream",
     "text": [
      "{'akash': 10, 'gaurav': 12, 'anand': 14, 'suraj': 20, 'akhil': 25, 'ashish': 30}\n"
     ]
    }
   ],
   "source": [
    "tups = [(\"akash\", 10), (\"gaurav\", 12), (\"anand\", 14), \n",
    "    (\"suraj\", 20), (\"akhil\", 25), (\"ashish\", 30)]\n",
    "print(dict(tups))"
   ]
  },
  {
   "cell_type": "code",
   "execution_count": 3,
   "id": "d6497cc3",
   "metadata": {},
   "outputs": [
    {
     "name": "stdout",
     "output_type": "stream",
     "text": [
      "{'a': 2, 'b': 2, 'c': 2}\n"
     ]
    }
   ],
   "source": [
    "L=['a','a','b','b','c','c'] \n",
    "map={}\n",
    "for i in L:\n",
    "    if i in map:\n",
    "        map[i]+=1\n",
    "    else:\n",
    "        map[i]=1\n",
    "print(map)\n"
   ]
  },
  {
   "cell_type": "code",
   "execution_count": 3,
   "id": "4294d582",
   "metadata": {},
   "outputs": [
    {
     "ename": "IndexError",
     "evalue": "list index out of range",
     "output_type": "error",
     "traceback": [
      "\u001b[1;31m---------------------------------------------------------------------------\u001b[0m",
      "\u001b[1;31mIndexError\u001b[0m                                Traceback (most recent call last)",
      "Cell \u001b[1;32mIn[3], line 9\u001b[0m\n\u001b[0;32m      7\u001b[0m         \u001b[38;5;28;01mif\u001b[39;00m n[i]\u001b[38;5;241m+\u001b[39mn[i\u001b[38;5;241m+\u001b[39m\u001b[38;5;241m1\u001b[39m]\u001b[38;5;241m==\u001b[39ms:\n\u001b[0;32m      8\u001b[0m             \u001b[38;5;28;01mreturn\u001b[39;00m [i,i\u001b[38;5;241m+\u001b[39m\u001b[38;5;241m1\u001b[39m]\n\u001b[1;32m----> 9\u001b[0m c\u001b[38;5;241m=\u001b[39muniquep(n,s)\n\u001b[0;32m     10\u001b[0m \u001b[38;5;28mprint\u001b[39m(c)\n",
      "Cell \u001b[1;32mIn[3], line 7\u001b[0m, in \u001b[0;36muniquep\u001b[1;34m(n, s)\u001b[0m\n\u001b[0;32m      4\u001b[0m \u001b[38;5;28;01mdef\u001b[39;00m \u001b[38;5;21muniquep\u001b[39m(n,s):\n\u001b[0;32m      5\u001b[0m     \u001b[38;5;66;03m#c=0\u001b[39;00m\n\u001b[0;32m      6\u001b[0m     \u001b[38;5;28;01mfor\u001b[39;00m i \u001b[38;5;129;01min\u001b[39;00m n:\n\u001b[1;32m----> 7\u001b[0m         \u001b[38;5;28;01mif\u001b[39;00m n[i]\u001b[38;5;241m+\u001b[39mn[i\u001b[38;5;241m+\u001b[39m\u001b[38;5;241m1\u001b[39m]\u001b[38;5;241m==\u001b[39ms:\n\u001b[0;32m      8\u001b[0m             \u001b[38;5;28;01mreturn\u001b[39;00m [i,i\u001b[38;5;241m+\u001b[39m\u001b[38;5;241m1\u001b[39m]\n",
      "\u001b[1;31mIndexError\u001b[0m: list index out of range"
     ]
    }
   ],
   "source": [
    "#find all unique pairs of numbers in an array,N which sum to a value s=15 \n",
    "n=[1,9,42,6,2,0,14,15]\n",
    "s=15\n",
    "def uniquep(n,s):\n",
    "    #c=0\n",
    "    for i in n:\n",
    "        if n[i]+n[i+1]==s:\n",
    "            return [i,i+1]\n",
    "c=uniquep(n,s)\n",
    "print(c)\n",
    "            "
   ]
  },
  {
   "cell_type": "code",
   "execution_count": 14,
   "id": "d130ec14",
   "metadata": {},
   "outputs": [
    {
     "name": "stdout",
     "output_type": "stream",
     "text": [
      "[(1, 14), (9, 6), (0, 15)]\n"
     ]
    }
   ],
   "source": [
    "#find all unique pairs of numbers in an array,N which sum to a value s=15 \n",
    "\n",
    "def Unique(n,s):\n",
    "    n1=len(n)\n",
    "    list=[]\n",
    "    for i in range(n1):\n",
    "        for j in range(i+1,n1):\n",
    "            if n[i]+n[j]==s:\n",
    "                list.append((n[i],n[j]))\n",
    "    return list\n",
    "            \n",
    "n=[1,9,42,6,2,0,14,15]\n",
    "s=15\n",
    "c=Unique(n,s)\n",
    "print(c)"
   ]
  },
  {
   "cell_type": "markdown",
   "id": "59ec60a5",
   "metadata": {},
   "source": [
    "# Given an array of integers nums and an integer target, return indices of the two numbers such that they add up to target.\n",
    "\n",
    "You may assume that each input would have exactly one solution, and you may not use the same element twice.\n",
    "\n",
    "You can return the answer in any order.\n",
    "\n",
    "Example 1:\n",
    "\n",
    "Input: nums = [2,7,11,15], target = 9 Output: [0,1] Explanation: Because nums[0] + nums[1] == 9, we return [0, 1]. Example 2:\n",
    "\n",
    "Input: nums = [3,2,4], target = 6 Output: [1,2] Example 3:\n",
    "\n",
    "Input: nums = [3,3], target = 6 Output: [0,1]"
   ]
  },
  {
   "cell_type": "code",
   "execution_count": 20,
   "id": "63b58ac6",
   "metadata": {},
   "outputs": [
    {
     "name": "stdout",
     "output_type": "stream",
     "text": [
      "[3, 4]\n"
     ]
    }
   ],
   "source": [
    "def twoSum(lis,t):\n",
    "    n=len(lis)\n",
    "    for i in range(n):\n",
    "        for j in range(i+1,n):\n",
    "            if lis[i]+lis[j]==t:\n",
    "                return [i,j]\n",
    "        \n",
    "lis=[1,9,42,6,2,0,14,15]\n",
    "t=8\n",
    "d=twoSum(lis,t)\n",
    "print(d)"
   ]
  },
  {
   "cell_type": "code",
   "execution_count": 21,
   "id": "0f8dea1d",
   "metadata": {},
   "outputs": [
    {
     "name": "stdout",
     "output_type": "stream",
     "text": [
      "{'a': 2, 'b': 2, 'c': 2}\n"
     ]
    }
   ],
   "source": [
    "L=['a','a','b','b','c','c'] \n",
    "map={}\n",
    "for i in L:\n",
    "    if i in map:\n",
    "        map[i]+=1\n",
    "    else:\n",
    "        map[i]=1\n",
    "print(map)"
   ]
  },
  {
   "cell_type": "code",
   "execution_count": 1,
   "id": "cb5d2509",
   "metadata": {},
   "outputs": [
    {
     "name": "stdout",
     "output_type": "stream",
     "text": [
      "{'a': 3, 'b': 3}\n"
     ]
    }
   ],
   "source": [
    "d={'a':1,'b':3,'a':1,'a':3}\n",
    "print(d)"
   ]
  },
  {
   "cell_type": "code",
   "execution_count": 9,
   "id": "197157d2",
   "metadata": {},
   "outputs": [
    {
     "ename": "TypeError",
     "evalue": "'list' object is not callable",
     "output_type": "error",
     "traceback": [
      "\u001b[1;31m---------------------------------------------------------------------------\u001b[0m",
      "\u001b[1;31mTypeError\u001b[0m                                 Traceback (most recent call last)",
      "Cell \u001b[1;32mIn[9], line 2\u001b[0m\n\u001b[0;32m      1\u001b[0m \u001b[38;5;66;03m#from typing import List\u001b[39;00m\n\u001b[1;32m----> 2\u001b[0m dic\u001b[38;5;241m=\u001b[39m\u001b[38;5;28mdict\u001b[39m([(\u001b[38;5;241m1\u001b[39m,\u001b[38;5;124m'\u001b[39m\u001b[38;5;124mk\u001b[39m\u001b[38;5;124m'\u001b[39m),(\u001b[38;5;241m2\u001b[39m,\u001b[38;5;124m'\u001b[39m\u001b[38;5;124mu\u001b[39m\u001b[38;5;124m'\u001b[39m)])\n\u001b[0;32m      3\u001b[0m \u001b[38;5;28mprint\u001b[39m(\u001b[38;5;28mdict\u001b[39m)\n",
      "\u001b[1;31mTypeError\u001b[0m: 'list' object is not callable"
     ]
    }
   ],
   "source": [
    "#from typing import List\n",
    "dic=dict([(1,'k'),(2,'u')])\n",
    "print(dict)\n"
   ]
  },
  {
   "cell_type": "code",
   "execution_count": 12,
   "id": "c49feb82",
   "metadata": {},
   "outputs": [
    {
     "ename": "TypeError",
     "evalue": "'list' object is not callable",
     "output_type": "error",
     "traceback": [
      "\u001b[1;31m---------------------------------------------------------------------------\u001b[0m",
      "\u001b[1;31mTypeError\u001b[0m                                 Traceback (most recent call last)",
      "Cell \u001b[1;32mIn[12], line 1\u001b[0m\n\u001b[1;32m----> 1\u001b[0m my_dict \u001b[38;5;241m=\u001b[39m \u001b[38;5;28mdict\u001b[39m({\u001b[38;5;241m1\u001b[39m: \u001b[38;5;124m'\u001b[39m\u001b[38;5;124mk\u001b[39m\u001b[38;5;124m'\u001b[39m, \u001b[38;5;241m2\u001b[39m: \u001b[38;5;124m'\u001b[39m\u001b[38;5;124mu\u001b[39m\u001b[38;5;124m'\u001b[39m})\n\u001b[0;32m      2\u001b[0m \u001b[38;5;28mprint\u001b[39m(my_dict)\n",
      "\u001b[1;31mTypeError\u001b[0m: 'list' object is not callable"
     ]
    }
   ],
   "source": [
    "my_dict = dict({1: 'k', 2: 'u'})\n",
    "print(my_dict)\n"
   ]
  },
  {
   "cell_type": "code",
   "execution_count": 14,
   "id": "277dbe9d",
   "metadata": {},
   "outputs": [
    {
     "name": "stdout",
     "output_type": "stream",
     "text": [
      "{1: 'Geeks', 2: 'For', 3: {'A': 'Welcome', 'B': 'To', 'C': 'Geeks'}}\n"
     ]
    }
   ],
   "source": [
    "Dict = {1: 'Geeks', 2: 'For', \n",
    "\t\t3: {'A': 'Welcome', 'B': 'To', 'C': 'Geeks'}} \n",
    "\n",
    "print(Dict) \n"
   ]
  },
  {
   "cell_type": "code",
   "execution_count": 15,
   "id": "5e8616c0",
   "metadata": {},
   "outputs": [
    {
     "name": "stdout",
     "output_type": "stream",
     "text": [
      "{}\n",
      "{0: 'kuldeep', 1: 'Ram', 2: 'krishna'}\n",
      "{0: 'kuldeep', 1: 'Ram', 2: 'krishna', 'values': (2, 'k', 3, 4)}\n"
     ]
    }
   ],
   "source": [
    "dict={}\n",
    "print(dict)\n",
    "dict[0]=\"kuldeep\"\n",
    "dict[1]=\"Ram\"\n",
    "dict[2]=\"krishna\"\n",
    "print(dict)\n",
    "dict['values']=2,'k',3,4\n",
    "print(dict)"
   ]
  },
  {
   "cell_type": "code",
   "execution_count": 16,
   "id": "18fa5c51",
   "metadata": {},
   "outputs": [
    {
     "ename": "KeyError",
     "evalue": "3",
     "output_type": "error",
     "traceback": [
      "\u001b[1;31m---------------------------------------------------------------------------\u001b[0m",
      "\u001b[1;31mKeyError\u001b[0m                                  Traceback (most recent call last)",
      "Cell \u001b[1;32mIn[16], line 1\u001b[0m\n\u001b[1;32m----> 1\u001b[0m \u001b[38;5;28mdict\u001b[39m[\u001b[38;5;241m3\u001b[39m][\u001b[38;5;241m1\u001b[39m]\n",
      "\u001b[1;31mKeyError\u001b[0m: 3"
     ]
    }
   ],
   "source": [
    "dict[2]"
   ]
  },
  {
   "cell_type": "code",
   "execution_count": 7,
   "id": "7de13a75",
   "metadata": {},
   "outputs": [
    {
     "name": "stdout",
     "output_type": "stream",
     "text": [
      "[(1, 14), (9, 6), (0, 15)]\n"
     ]
    }
   ],
   "source": [
    "#find all unique pairs of numbers in an array,N which sum to a value s=15 \n",
    "L=[1,9,42,6,2,0,14,15]\n",
    "S=15\n",
    "n=len(L)\n",
    "list=[]\n",
    "for i in range(n):\n",
    "    for j in range(i+1,n):\n",
    "        if L[i]+L[j]==S:\n",
    "            list.append((L[i],L[j]))\n",
    "print(list)\n",
    "         \n"
   ]
  },
  {
   "cell_type": "code",
   "execution_count": 11,
   "id": "8c93bc01",
   "metadata": {},
   "outputs": [
    {
     "name": "stdout",
     "output_type": "stream",
     "text": [
      "[9, 6, 2, 0, 15, 3, 4, 7, 11]\n"
     ]
    }
   ],
   "source": [
    "# display only the unmatched records from two lis\n",
    "L=[1,9,42,6,2,0,14,15]\n",
    "M=[3,4,1,42,7,11,14]\n",
    "N=[]\n",
    "\n",
    "for i in L:\n",
    "    if i not in M:\n",
    "        N.append(i)\n",
    "for j in M:\n",
    "    if j not in L:\n",
    "        N.append(j)\n",
    "print(N)\n"
   ]
  },
  {
   "cell_type": "code",
   "execution_count": 13,
   "id": "0a55ad74",
   "metadata": {},
   "outputs": [
    {
     "name": "stdout",
     "output_type": "stream",
     "text": [
      "{'Mango': 2, 'Apple': 2, 'Orange': 1}\n"
     ]
    }
   ],
   "source": [
    "L=['Mango',\"Apple\",'Orange','Apple',\"Mango\"]\n",
    "\n",
    "def occ(L):\n",
    "    dic={}\n",
    "    for i in L:\n",
    "        if i in dic:\n",
    "            dic[i]+=1\n",
    "        else:\n",
    "            dic[i]=1\n",
    "    return dic\n",
    "print(occ(L))"
   ]
  },
  {
   "cell_type": "code",
   "execution_count": 14,
   "id": "1335c61d",
   "metadata": {},
   "outputs": [
    {
     "name": "stdout",
     "output_type": "stream",
     "text": [
      "Maximum length of subset with sum 0: 5\n"
     ]
    }
   ],
   "source": [
    "# find the maximum length of the subset of array having sum as 0\n",
    "def maxSubsetLengthWithSumZero(arr):\n",
    "    prefix_sum = {}\n",
    "    max_length = 0\n",
    "    current_sum = 0\n",
    "\n",
    "    for i, num in enumerate(arr):\n",
    "        current_sum += num\n",
    "\n",
    "        if current_sum == 0:\n",
    "            max_length = i + 1\n",
    "        elif current_sum in prefix_sum:\n",
    "            max_length = max(max_length, i - prefix_sum[current_sum])\n",
    "        else:\n",
    "            prefix_sum[current_sum] = i\n",
    "\n",
    "    return max_length\n",
    "\n",
    "# Example usage:\n",
    "arr = [15, -2, 2, -8, 1, 7, 10, 23]\n",
    "print(\"Maximum length of subset with sum 0:\", maxSubsetLengthWithSumZero(arr))\n"
   ]
  },
  {
   "cell_type": "code",
   "execution_count": 20,
   "id": "5e020423",
   "metadata": {},
   "outputs": [
    {
     "name": "stdout",
     "output_type": "stream",
     "text": [
      "[-1]\n",
      "None\n"
     ]
    }
   ],
   "source": [
    "def duplicates(arr, n):\n",
    "        dup={}\n",
    "        for i in arr:\n",
    "            if i in dup:\n",
    "                dup[i]+=1\n",
    "            else:\n",
    "                dup[i]=1\n",
    "        output=[]\n",
    "        \n",
    "        for i in dup:\n",
    "            if dup[i]>1:\n",
    "                output.append(i)\n",
    "        if len(output)==0:\n",
    "            output.append(-1)\n",
    "            \n",
    "        print(sorted(output))\n",
    "        \n",
    "N = 4\n",
    "arr= {0,3,1,2}\n",
    "print(duplicates(arr,N))"
   ]
  },
  {
   "cell_type": "markdown",
   "id": "d4af755c",
   "metadata": {},
   "source": [
    "# Given an array a of size N which contains elements from 0 to N-1, you need to find all the elements occurring more than once in the given array. Return the answer in ascending order. If no such element is found, return list containing [-1]. \n",
    "\n",
    "Note: The extra space is only for the array to be returned. Try and perform all operations within the provided array. \n",
    "\n",
    "Example 1:\n",
    "\n",
    "Input:\n",
    "N = 4\n",
    "a[] = {0,3,1,2}\n",
    "Output: \n",
    "-1\n",
    "Explanation: \n",
    "There is no repeating element in the array. Therefore output is -1."
   ]
  },
  {
   "cell_type": "code",
   "execution_count": 28,
   "id": "dc3dadc6",
   "metadata": {},
   "outputs": [
    {
     "name": "stdout",
     "output_type": "stream",
     "text": [
      "[-1]\n"
     ]
    }
   ],
   "source": [
    "def duplicates(arr,n):\n",
    "    dup={}\n",
    "    for i in arr:\n",
    "        if i in dup:\n",
    "            dup[i]+=1\n",
    "        else:\n",
    "            dup[i]=1\n",
    "            \n",
    "    output=[]\n",
    "    \n",
    "    for i in dup:\n",
    "        if dup[i] >1:\n",
    "            output.append(i)\n",
    "            \n",
    "    if len(output)==0:\n",
    "        output.append(-1)\n",
    "        \n",
    "    return sorted(output)\n",
    "    \n",
    "arr=[0,1,3,4]\n",
    "n=4\n",
    "   \n",
    "print(duplicates(arr,n))\n",
    "    "
   ]
  },
  {
   "cell_type": "code",
   "execution_count": 2,
   "id": "15baaff0",
   "metadata": {},
   "outputs": [
    {
     "name": "stdout",
     "output_type": "stream",
     "text": [
      "[1, 3]\n"
     ]
    }
   ],
   "source": [
    "arr=[0,1,1,3,3,4]\n",
    "def duplicate(arr):\n",
    "    dup={}\n",
    "    \n",
    "    for i in arr:\n",
    "        if i in dup:\n",
    "            dup[i]+=1\n",
    "        else:\n",
    "            dup[i]=1\n",
    "            \n",
    "    output=[]\n",
    "    \n",
    "    for i in dup:\n",
    "        if dup[i]>1:\n",
    "            output.append(i)\n",
    "    if len(output)==0:\n",
    "        output.append(-1)\n",
    "    return sorted(output)\n",
    "b=duplicate(arr)\n",
    "print(b)\n",
    "            "
   ]
  },
  {
   "cell_type": "code",
   "execution_count": 3,
   "id": "25fa8441",
   "metadata": {},
   "outputs": [
    {
     "name": "stdout",
     "output_type": "stream",
     "text": [
      "112233aa!!\n"
     ]
    }
   ],
   "source": [
    "a='123a!' #output  112233aa!!\n",
    "\n",
    "def c_dup(a):\n",
    "    new_s=''\n",
    "    for i in a:\n",
    "        new_s+=str(i)*2\n",
    "    return new_s\n",
    "c=c_dup(a)\n",
    "print(c)"
   ]
  },
  {
   "cell_type": "code",
   "execution_count": 7,
   "id": "190f0c04",
   "metadata": {},
   "outputs": [
    {
     "name": "stdout",
     "output_type": "stream",
     "text": [
      "False\n"
     ]
    }
   ],
   "source": [
    "s='()[]{]'\n",
    "\n",
    "def isValid(s):\n",
    "    stack=[]\n",
    "    d={'(':')','{':'}','[':']'}\n",
    "    \n",
    "    for c in s:\n",
    "        if c in d.keys():\n",
    "            stack.append(c)\n",
    "        elif c in d.values():\n",
    "            if not stack or d[stack.pop()]!=c:\n",
    "                return False\n",
    "    return not stack\n",
    "\n",
    "v=isValid(s)\n",
    "print(v)\n",
    "        "
   ]
  },
  {
   "cell_type": "code",
   "execution_count": 2,
   "id": "511cb624",
   "metadata": {},
   "outputs": [
    {
     "name": "stdout",
     "output_type": "stream",
     "text": [
      "[3, 5, 6, 7, 8, 9, 11, 14]\n"
     ]
    }
   ],
   "source": [
    "l=[3,5,6,8,9,11,14]\n",
    "m=7\n",
    "\n",
    "def insert(l,m):\n",
    "    n=len(l)\n",
    "    for i in range(n):\n",
    "        if l[i]>m:\n",
    "            n=i\n",
    "            break\n",
    "    if n==len(l):\n",
    "        l=l[:n]+[m]\n",
    "    else:\n",
    "        l=l[:n]+[m]+l[n:]\n",
    "    return l\n",
    "\n",
    "b=insert(l,m)\n",
    "print(b)\n",
    "            "
   ]
  },
  {
   "cell_type": "code",
   "execution_count": 3,
   "id": "dbd36065",
   "metadata": {},
   "outputs": [
    {
     "name": "stdout",
     "output_type": "stream",
     "text": [
      "[3, 5, 6, 8, 9, 11, 14, 0, 0, 0, 0]\n"
     ]
    }
   ],
   "source": [
    "l=[3,0,5,0,6,8,0,0,9,11,14] #output[3,5,6,8,9,11,14,0,0,0,0] len(l)=11,0-10\n",
    "\n",
    "def Endofzero(l):\n",
    "    n=len(l)\n",
    "    j=0\n",
    "    for i in range(n):\n",
    "        if l[i]!=0:\n",
    "            l[i],l[j]=l[j],l[i]\n",
    "            j+=1\n",
    "    return l\n",
    "b=Endofzero(l)\n",
    "print(b)\n"
   ]
  },
  {
   "cell_type": "code",
   "execution_count": 14,
   "id": "65f17090",
   "metadata": {},
   "outputs": [
    {
     "name": "stdout",
     "output_type": "stream",
     "text": [
      "[1, 3, 12, 3, 12]\n",
      "3\n",
      "[1, 3, 12, 0, 0]\n"
     ]
    }
   ],
   "source": [
    "l=[0, 1, 0, 3, 12] #output[1, 3, 12, 0, 0] len(l)=11,0-10\n",
    "\n",
    "def Endofzero(l):\n",
    "    n=len(l)\n",
    "    j=0\n",
    "    for i in range(n):\n",
    "        if l[i]!=0:\n",
    "            l[j]=l[i]\n",
    "            j+=1\n",
    "    print(l)\n",
    "    print(j)\n",
    "    for i in range(j,n):\n",
    "        l[i]=0\n",
    "    return l\n",
    "    \n",
    "b=Endofzero(l)\n",
    "print(b)"
   ]
  },
  {
   "cell_type": "code",
   "execution_count": 19,
   "id": "3550d926",
   "metadata": {},
   "outputs": [
    {
     "name": "stdout",
     "output_type": "stream",
     "text": [
      "['b', 'b', 'b', 'b', 'c', 'c', 'c', 'a', 'a', 'd']\n"
     ]
    }
   ],
   "source": [
    "input='bbbbcccaad'#output=[4,3,2,1] \n",
    "l=[]\n",
    "m={}\n",
    "for i in input:\n",
    "    l.append(i)\n",
    "print(l)\n",
    "\n",
    "for i in range(len(l)):\n",
    "    if i in m:\n",
    "        m[i]+=1\n",
    "    else:\n",
    "        m[i]=1\n",
    "for i in m.values()\n",
    "    "
   ]
  },
  {
   "cell_type": "code",
   "execution_count": 21,
   "id": "e8984ec0",
   "metadata": {},
   "outputs": [
    {
     "name": "stdout",
     "output_type": "stream",
     "text": [
      "[4, 3, 2, 1]\n"
     ]
    }
   ],
   "source": [
    "input='bbbbcccaad'#output=[4,3,2,1] \n",
    "l=[]\n",
    "m={}\n",
    "\n",
    "for i in input:\n",
    "    if i in m:\n",
    "        m[i]+=1\n",
    "    else:\n",
    "        m[i]=1\n",
    "        \n",
    "for i in m.values():\n",
    "    l.append(i)\n",
    "print(l)\n",
    "    "
   ]
  },
  {
   "cell_type": "code",
   "execution_count": null,
   "id": "02b0bf11",
   "metadata": {},
   "outputs": [],
   "source": [
    "input=[1,2,[7,9,[15,[12,9]],18,10]] #output=[1,2,7,9,15,12,9,18,10]"
   ]
  }
 ],
 "metadata": {
  "kernelspec": {
   "display_name": "Python 3 (ipykernel)",
   "language": "python",
   "name": "python3"
  },
  "language_info": {
   "codemirror_mode": {
    "name": "ipython",
    "version": 3
   },
   "file_extension": ".py",
   "mimetype": "text/x-python",
   "name": "python",
   "nbconvert_exporter": "python",
   "pygments_lexer": "ipython3",
   "version": "3.11.4"
  }
 },
 "nbformat": 4,
 "nbformat_minor": 5
}
