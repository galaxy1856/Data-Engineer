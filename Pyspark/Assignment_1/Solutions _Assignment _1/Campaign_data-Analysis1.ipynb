{
 "cells": [
  {
   "cell_type": "code",
   "execution_count": 2,
   "id": "803a9f32-b0d8-46c8-8a72-59b3370c662c",
   "metadata": {},
   "outputs": [],
   "source": [
    "from pyspark.sql.functions import *\n",
    "from pyspark.sql import SparkSession\n",
    "from pyspark.sql.types import *\n",
    "from datetime import datetime"
   ]
  },
  {
   "cell_type": "code",
   "execution_count": 3,
   "id": "3ab21948-aebb-46cb-ab7e-95456d43d53b",
   "metadata": {},
   "outputs": [
    {
     "name": "stderr",
     "output_type": "stream",
     "text": [
      "23/09/23 07:52:12 WARN SparkSession: Using an existing Spark session; only runtime SQL configurations will take effect.\n"
     ]
    }
   ],
   "source": [
    "spark = SparkSession.builder \\\n",
    "    .appName(\"k1\") \\\n",
    "    .config(\"spark.some.config.option\", \"some-value\") \\\n",
    "    .enableHiveSupport() \\\n",
    "    .getOrCreate()"
   ]
  },
  {
   "cell_type": "markdown",
   "id": "0a396687-de83-44c5-8baa-9e84c4d65ec1",
   "metadata": {},
   "source": [
    "# Q1. Analyse data for each campaign_id, date, hour, os_type & value to get all the events with counts¶"
   ]
  },
  {
   "cell_type": "code",
   "execution_count": 4,
   "id": "2c1622bb-33b9-462c-b7f3-6091fb3508d3",
   "metadata": {},
   "outputs": [
    {
     "name": "stderr",
     "output_type": "stream",
     "text": [
      "                                                                                \r"
     ]
    },
    {
     "name": "stdout",
     "output_type": "stream",
     "text": [
      "root\n",
      " |-- campaign_country: string (nullable = true)\n",
      " |-- campaign_id: string (nullable = true)\n",
      " |-- campaign_name: string (nullable = true)\n",
      " |-- device_type: string (nullable = true)\n",
      " |-- event_time: string (nullable = true)\n",
      " |-- event_type: string (nullable = true)\n",
      " |-- os_type: string (nullable = true)\n",
      " |-- place_id: string (nullable = true)\n",
      " |-- user_id: string (nullable = true)\n",
      "\n"
     ]
    },
    {
     "name": "stderr",
     "output_type": "stream",
     "text": [
      "                                                                                \r"
     ]
    },
    {
     "name": "stdout",
     "output_type": "stream",
     "text": [
      "+----------------+-----------+-----------------------------+-----------+------------------------+----------+-------+---------+-------------------+\n",
      "|campaign_country|campaign_id|campaign_name                |device_type|event_time              |event_type|os_type|place_id |user_id            |\n",
      "+----------------+-----------+-----------------------------+-----------+------------------------+----------+-------+---------+-------------------+\n",
      "|USA             |ABCDFAE    |Food category target campaign|apple      |2018-10-12T13:10:05.000Z|impression|ios    |CASSBB-11|1264374214654454321|\n",
      "|USA             |ABCDFAE    |Food category target campaign|MOTOROLA   |2018-10-12T13:09:04.000Z|impression|android|CADGBD-13|1674374214654454321|\n",
      "|USA             |ABCDFAE    |Food category target campaign|SAMSUNG    |2018-10-12T13:10:10.000Z|video ad  |android|BADGBA-12|5747421465445443   |\n",
      "|USA             |ABCDFAE    |Food category target campaign|SAMSUNG    |2018-10-12T13:10:12.000Z|click     |android|CASSBB-11|1864374214654454132|\n",
      "+----------------+-----------+-----------------------------+-----------+------------------------+----------+-------+---------+-------------------+\n",
      "\n"
     ]
    }
   ],
   "source": [
    "df1=spark.read.option(\"multiline\",\"true\").json('/tmp/input_data/ad_campaigns_data.json')\n",
    "\n",
    "df1.printSchema()\n",
    "df1.show(truncate=False)"
   ]
  },
  {
   "cell_type": "code",
   "execution_count": 5,
   "id": "100fcc02-f26e-4faf-870f-9718b3b009c4",
   "metadata": {},
   "outputs": [],
   "source": [
    "df2=df1.withColumn(\"date\",date_format(\"event_time\",'yyyy-mm-dd')).withColumn(\"hour\",hour(\"event_time\")) \\\n",
    "                   .withColumn(\"type\",lit(\"os_type\")).withColumn(\"value\",col(\"os_type\"))\n"
   ]
  },
  {
   "cell_type": "code",
   "execution_count": 6,
   "id": "4ca661a3-0617-407d-95ce-2c846619a196",
   "metadata": {},
   "outputs": [
    {
     "name": "stdout",
     "output_type": "stream",
     "text": [
      "+----------------+-----------+--------------------+-----------+--------------------+----------+-------+---------+-------------------+----------+----+-------+-------+\n",
      "|campaign_country|campaign_id|       campaign_name|device_type|          event_time|event_type|os_type| place_id|            user_id|      date|hour|   type|  value|\n",
      "+----------------+-----------+--------------------+-----------+--------------------+----------+-------+---------+-------------------+----------+----+-------+-------+\n",
      "|             USA|    ABCDFAE|Food category tar...|      apple|2018-10-12T13:10:...|impression|    ios|CASSBB-11|1264374214654454321|2018-10-12|  13|os_type|    ios|\n",
      "|             USA|    ABCDFAE|Food category tar...|   MOTOROLA|2018-10-12T13:09:...|impression|android|CADGBD-13|1674374214654454321|2018-09-12|  13|os_type|android|\n",
      "|             USA|    ABCDFAE|Food category tar...|    SAMSUNG|2018-10-12T13:10:...|  video ad|android|BADGBA-12|   5747421465445443|2018-10-12|  13|os_type|android|\n",
      "|             USA|    ABCDFAE|Food category tar...|    SAMSUNG|2018-10-12T13:10:...|     click|android|CASSBB-11|1864374214654454132|2018-10-12|  13|os_type|android|\n",
      "+----------------+-----------+--------------------+-----------+--------------------+----------+-------+---------+-------------------+----------+----+-------+-------+\n",
      "\n"
     ]
    }
   ],
   "source": [
    "df2.show()"
   ]
  },
  {
   "cell_type": "code",
   "execution_count": 7,
   "id": "3c5bd478-fc5e-4d15-95ed-c6cda1bb4f8c",
   "metadata": {},
   "outputs": [
    {
     "name": "stdout",
     "output_type": "stream",
     "text": [
      "+-----------+----------+----+-------+-------+----------+\n",
      "|campaign_id|date      |hour|value  |type   |event_type|\n",
      "+-----------+----------+----+-------+-------+----------+\n",
      "|ABCDFAE    |2018-10-12|13  |ios    |os_type|impression|\n",
      "|ABCDFAE    |2018-09-12|13  |android|os_type|impression|\n",
      "|ABCDFAE    |2018-10-12|13  |android|os_type|video ad  |\n",
      "|ABCDFAE    |2018-10-12|13  |android|os_type|click     |\n",
      "+-----------+----------+----+-------+-------+----------+\n",
      "\n"
     ]
    }
   ],
   "source": [
    "df3=df2.select(\"campaign_id\",\"date\",\"hour\",\"value\",\"type\",\"event_type\")\n",
    "df3.show(truncate=False)"
   ]
  },
  {
   "cell_type": "code",
   "execution_count": 8,
   "id": "f7150ca9-e263-44ab-8346-7cfcbb491111",
   "metadata": {},
   "outputs": [
    {
     "name": "stderr",
     "output_type": "stream",
     "text": [
      "[Stage 4:>                                                          (0 + 1) / 1]\r"
     ]
    },
    {
     "name": "stdout",
     "output_type": "stream",
     "text": [
      "+-----------+----------+----+-------+-------+----------+-----+\n",
      "|campaign_id|      date|hour|  value|   type|event_type|count|\n",
      "+-----------+----------+----+-------+-------+----------+-----+\n",
      "|    ABCDFAE|2018-10-12|  13|android|os_type|  video ad|    1|\n",
      "|    ABCDFAE|2018-10-12|  13|android|os_type|     click|    1|\n",
      "|    ABCDFAE|2018-09-12|  13|android|os_type|impression|    1|\n",
      "|    ABCDFAE|2018-10-12|  13|    ios|os_type|impression|    1|\n",
      "+-----------+----------+----+-------+-------+----------+-----+\n",
      "\n"
     ]
    },
    {
     "name": "stderr",
     "output_type": "stream",
     "text": [
      "                                                                                \r"
     ]
    }
   ],
   "source": [
    "df4=df3.select(\"campaign_id\",\"date\",\"hour\",\"value\",\"type\",\"event_type\").groupBy(\"campaign_id\",\"date\",\"hour\",\"value\",\"type\",\"event_type\").count()\n",
    "df4.show()"
   ]
  },
  {
   "cell_type": "markdown",
   "id": "14beba0d-f962-40a8-b043-9fa7924e1d7a",
   "metadata": {},
   "source": [
    "# The agg component has to contain actual aggregation function. One way to approach this is to combine\n",
    "# collect_list : Aggregate function: returns a list of objects with duplicates.\n",
    "# struct : Creates a new struct column.\n",
    "# map_from_entries : Collection function: Returns a map created from the given array of entries."
   ]
  },
  {
   "cell_type": "code",
   "execution_count": 9,
   "id": "e7d479f7-904a-46b5-b137-b55abef00d39",
   "metadata": {},
   "outputs": [],
   "source": [
    "from pyspark.sql import functions as f\n",
    "from pyspark.sql.functions import col, asc,desc"
   ]
  },
  {
   "cell_type": "code",
   "execution_count": 10,
   "id": "a7489f18-f0e3-4008-863a-1a98086fc911",
   "metadata": {},
   "outputs": [
    {
     "name": "stdout",
     "output_type": "stream",
     "text": [
      "+-----------+----------+----+-------+-------+---------------------------+\n",
      "|campaign_id|date      |hour|type   |value  |event                      |\n",
      "+-----------+----------+----+-------+-------+---------------------------+\n",
      "|ABCDFAE    |2018-10-12|13  |os_type|android|{video ad -> 1, click -> 1}|\n",
      "|ABCDFAE    |2018-09-12|13  |os_type|android|{impression -> 1}          |\n",
      "|ABCDFAE    |2018-10-12|13  |os_type|ios    |{impression -> 1}          |\n",
      "+-----------+----------+----+-------+-------+---------------------------+\n",
      "\n"
     ]
    }
   ],
   "source": [
    "df5=df4.groupBy(\"campaign_id\",\"date\",\"hour\",\"type\",\"value\") \\\n",
    "        .agg(f.map_from_entries(f.collect_list(f.struct(\"event_type\", \"count\"))).alias(\"event\"))\n",
    "#df6=df5.orderBy(col(\"event\").desc())\n",
    "df5.show(truncate=False)"
   ]
  },
  {
   "cell_type": "code",
   "execution_count": 11,
   "id": "5f1af304-14df-475f-b43e-801b8b1d2e29",
   "metadata": {},
   "outputs": [
    {
     "name": "stderr",
     "output_type": "stream",
     "text": [
      "                                                                                \r"
     ]
    }
   ],
   "source": [
    "df5.coalesce(1).write.json(\"/tmp/output_data1/campaign/\")"
   ]
  },
  {
   "cell_type": "code",
   "execution_count": 12,
   "id": "b7b7f0c3-afbe-40db-b732-9345c7f0714d",
   "metadata": {},
   "outputs": [
    {
     "name": "stdout",
     "output_type": "stream",
     "text": [
      "+---------------------------------+-------------+\n",
      "|place_ids                        |store_name   |\n",
      "+---------------------------------+-------------+\n",
      "|[CASSBB-11, CADGBD-13, FDBEGD-14]|McDonald     |\n",
      "|[CASSBB-11]                      |BurgerKing   |\n",
      "|[BADGBA-13, CASSBB-15, FDBEGD-15]|Macys        |\n",
      "|[BADGBA-12]                      |shoppers stop|\n",
      "+---------------------------------+-------------+\n",
      "\n"
     ]
    }
   ],
   "source": [
    "store_df=spark.read.option(\"multiline\",\"True\").json(\"/tmp/input_data/store_data.json\")\n",
    "store_df.show(truncate=False)"
   ]
  },
  {
   "cell_type": "code",
   "execution_count": 13,
   "id": "643ae9d5-d875-45cf-96d8-6b6825cac5b6",
   "metadata": {},
   "outputs": [
    {
     "name": "stdout",
     "output_type": "stream",
     "text": [
      "+----------------+-----------+--------------------+-----------+--------------------+----------+-------+---------+-------------------+\n",
      "|campaign_country|campaign_id|       campaign_name|device_type|          event_time|event_type|os_type| place_id|            user_id|\n",
      "+----------------+-----------+--------------------+-----------+--------------------+----------+-------+---------+-------------------+\n",
      "|             USA|    ABCDFAE|Food category tar...|      apple|2018-10-12T13:10:...|impression|    ios|CASSBB-11|1264374214654454321|\n",
      "|             USA|    ABCDFAE|Food category tar...|   MOTOROLA|2018-10-12T13:09:...|impression|android|CADGBD-13|1674374214654454321|\n",
      "|             USA|    ABCDFAE|Food category tar...|    SAMSUNG|2018-10-12T13:10:...|  video ad|android|BADGBA-12|   5747421465445443|\n",
      "|             USA|    ABCDFAE|Food category tar...|    SAMSUNG|2018-10-12T13:10:...|     click|android|CASSBB-11|1864374214654454132|\n",
      "+----------------+-----------+--------------------+-----------+--------------------+----------+-------+---------+-------------------+\n",
      "\n"
     ]
    }
   ],
   "source": [
    "df1.show()"
   ]
  },
  {
   "cell_type": "code",
   "execution_count": 14,
   "id": "eb96f11e-6636-4aa1-971a-56718b2276ab",
   "metadata": {},
   "outputs": [
    {
     "name": "stdout",
     "output_type": "stream",
     "text": [
      "+----------------+-----------+-----------------------------+-----------+------------------------+----------+-------+---------+-------------------+---------------------------------+-------------+\n",
      "|campaign_country|campaign_id|campaign_name                |device_type|event_time              |event_type|os_type|place_id |user_id            |place_ids                        |store_name   |\n",
      "+----------------+-----------+-----------------------------+-----------+------------------------+----------+-------+---------+-------------------+---------------------------------+-------------+\n",
      "|USA             |ABCDFAE    |Food category target campaign|apple      |2018-10-12T13:10:05.000Z|impression|ios    |CASSBB-11|1264374214654454321|[CASSBB-11, CADGBD-13, FDBEGD-14]|McDonald     |\n",
      "|USA             |ABCDFAE    |Food category target campaign|apple      |2018-10-12T13:10:05.000Z|impression|ios    |CASSBB-11|1264374214654454321|[CASSBB-11]                      |BurgerKing   |\n",
      "|USA             |ABCDFAE    |Food category target campaign|MOTOROLA   |2018-10-12T13:09:04.000Z|impression|android|CADGBD-13|1674374214654454321|[CASSBB-11, CADGBD-13, FDBEGD-14]|McDonald     |\n",
      "|USA             |ABCDFAE    |Food category target campaign|SAMSUNG    |2018-10-12T13:10:10.000Z|video ad  |android|BADGBA-12|5747421465445443   |[BADGBA-12]                      |shoppers stop|\n",
      "|USA             |ABCDFAE    |Food category target campaign|SAMSUNG    |2018-10-12T13:10:12.000Z|click     |android|CASSBB-11|1864374214654454132|[CASSBB-11, CADGBD-13, FDBEGD-14]|McDonald     |\n",
      "|USA             |ABCDFAE    |Food category target campaign|SAMSUNG    |2018-10-12T13:10:12.000Z|click     |android|CASSBB-11|1864374214654454132|[CASSBB-11]                      |BurgerKing   |\n",
      "+----------------+-----------+-----------------------------+-----------+------------------------+----------+-------+---------+-------------------+---------------------------------+-------------+\n",
      "\n"
     ]
    }
   ],
   "source": [
    "stores=df1.join(store_df, array_contains(store_df.place_ids,df1.place_id),'left')\n",
    "stores.show(truncate=False)"
   ]
  },
  {
   "cell_type": "code",
   "execution_count": 15,
   "id": "283ba478-7e92-43ed-a602-694433e07a91",
   "metadata": {},
   "outputs": [
    {
     "data": {
      "text/plain": [
       "6"
      ]
     },
     "execution_count": 15,
     "metadata": {},
     "output_type": "execute_result"
    }
   ],
   "source": [
    "stores.count()"
   ]
  },
  {
   "cell_type": "code",
   "execution_count": 16,
   "id": "8d35591d-d4ba-4d39-b128-20ed5de3284a",
   "metadata": {},
   "outputs": [
    {
     "name": "stdout",
     "output_type": "stream",
     "text": [
      "+-----------+----------+----+----------+-------------+----------+-----+\n",
      "|campaign_id|      date|hour|      type|        value|event_type|count|\n",
      "+-----------+----------+----+----------+-------------+----------+-----+\n",
      "|    ABCDFAE|2018-10-12|  13|store_name|   BurgerKing|     click|    1|\n",
      "|    ABCDFAE|2018-09-12|  13|store_name|     McDonald|impression|    1|\n",
      "|    ABCDFAE|2018-10-12|  13|store_name|shoppers stop|  video ad|    1|\n",
      "|    ABCDFAE|2018-10-12|  13|store_name|     McDonald|     click|    1|\n",
      "|    ABCDFAE|2018-10-12|  13|store_name|     McDonald|impression|    1|\n",
      "|    ABCDFAE|2018-10-12|  13|store_name|   BurgerKing|impression|    1|\n",
      "+-----------+----------+----+----------+-------------+----------+-----+\n",
      "\n"
     ]
    }
   ],
   "source": [
    "s_df=stores.withColumn(\"date\",date_format(\"event_time\",'yyyy-mm-dd')).withColumn(\"hour\",hour(\"event_time\")) \\\n",
    "                   .withColumn(\"type\",lit(\"store_name\")).withColumn(\"value\",col(\"store_name\")) \\\n",
    "                   .select(\"campaign_id\",\"date\",\"hour\",\"type\",\"value\",\"event_type\") \\\n",
    "                   .groupBy(\"campaign_id\",\"date\",\"hour\",\"type\",\"value\",\"event_type\").count()\n",
    "s_df.show()"
   ]
  },
  {
   "cell_type": "code",
   "execution_count": 17,
   "id": "d78c17ba-b9a8-408e-90fc-36e0ac5efbee",
   "metadata": {},
   "outputs": [
    {
     "name": "stdout",
     "output_type": "stream",
     "text": [
      "+-----------+----------+----+----------+-------------+-----------------------------+\n",
      "|campaign_id|date      |hour|type      |value        |event                        |\n",
      "+-----------+----------+----+----------+-------------+-----------------------------+\n",
      "|ABCDFAE    |2018-10-12|13  |store_name|BurgerKing   |{click -> 1, impression -> 1}|\n",
      "|ABCDFAE    |2018-09-12|13  |store_name|McDonald     |{impression -> 1}            |\n",
      "|ABCDFAE    |2018-10-12|13  |store_name|McDonald     |{click -> 1, impression -> 1}|\n",
      "|ABCDFAE    |2018-10-12|13  |store_name|shoppers stop|{video ad -> 1}              |\n",
      "+-----------+----------+----+----------+-------------+-----------------------------+\n",
      "\n"
     ]
    }
   ],
   "source": [
    "s_df2=s_df.groupBy(\"campaign_id\",\"date\",\"hour\",\"type\",\"value\") \\\n",
    "        .agg(f.map_from_entries(f.collect_list(f.struct(\"event_type\", \"count\"))).alias(\"event\"))\n",
    "\n",
    "s_df2.show(truncate=False)"
   ]
  },
  {
   "cell_type": "code",
   "execution_count": 18,
   "id": "fd526b73-3a0c-4c24-a176-e61a3fecab53",
   "metadata": {},
   "outputs": [],
   "source": [
    "s_df2.coalesce(1).write.format('json').save('/tmp/output_data1/store')"
   ]
  },
  {
   "cell_type": "code",
   "execution_count": 26,
   "id": "3cfb7b01-d50b-4aa0-908c-7a7e62f8de3f",
   "metadata": {},
   "outputs": [
    {
     "name": "stdout",
     "output_type": "stream",
     "text": [
      "+---------+--------------------+-------+------+-------------------+\n",
      "|age_group|            category|country|gender|            user_id|\n",
      "+---------+--------------------+-------+------+-------------------+\n",
      "|    18-25|  [shopper, student]|    USA|  male|1264374214654454321|\n",
      "|    25-50|            [parent]|    USA|female|1674374214654454321|\n",
      "|    25-50|[shopper, parent,...|    USA|  male|   5747421465445443|\n",
      "|      50+|      [professional]|    USA|  male|1864374214654454132|\n",
      "|    18-25|  [shopper, student]|    USA|female|  14537421465445443|\n",
      "|      50+|[shopper, profess...|    USA|female|  25547421465445443|\n",
      "+---------+--------------------+-------+------+-------------------+\n",
      "\n"
     ]
    }
   ],
   "source": [
    "user_profile_df=spark.read.format(\"json\")\\\n",
    "                .option(\"multiline\", \"true\")\\\n",
    "                .load(\"/tmp/input_data/user_profile_data.json\")\n",
    "user_profile_df.show()"
   ]
  },
  {
   "cell_type": "code",
   "execution_count": 27,
   "id": "1440c1f0-6913-40a9-8b91-5ce0b3417dd7",
   "metadata": {},
   "outputs": [
    {
     "name": "stdout",
     "output_type": "stream",
     "text": [
      "+----------------+-----------+--------------------+-----------+--------------------+----------+-------+---------+-------------------+\n",
      "|campaign_country|campaign_id|       campaign_name|device_type|          event_time|event_type|os_type| place_id|            user_id|\n",
      "+----------------+-----------+--------------------+-----------+--------------------+----------+-------+---------+-------------------+\n",
      "|             USA|    ABCDFAE|Food category tar...|      apple|2018-10-12T13:10:...|impression|    ios|CASSBB-11|1264374214654454321|\n",
      "|             USA|    ABCDFAE|Food category tar...|   MOTOROLA|2018-10-12T13:09:...|impression|android|CADGBD-13|1674374214654454321|\n",
      "|             USA|    ABCDFAE|Food category tar...|    SAMSUNG|2018-10-12T13:10:...|  video ad|android|BADGBA-12|   5747421465445443|\n",
      "|             USA|    ABCDFAE|Food category tar...|    SAMSUNG|2018-10-12T13:10:...|     click|android|CASSBB-11|1864374214654454132|\n",
      "+----------------+-----------+--------------------+-----------+--------------------+----------+-------+---------+-------------------+\n",
      "\n"
     ]
    }
   ],
   "source": [
    "df1.show()"
   ]
  },
  {
   "cell_type": "code",
   "execution_count": 30,
   "id": "8f58ec8e-7762-48ef-821d-ebd9f91e71ca",
   "metadata": {},
   "outputs": [
    {
     "name": "stdout",
     "output_type": "stream",
     "text": [
      "+----------------+-----------+-----------------------------+-----------+------------------------+----------+-------+---------+-------------------+---------+-------------------------------+-------+------+-------------------+\n",
      "|campaign_country|campaign_id|campaign_name                |device_type|event_time              |event_type|os_type|place_id |user_id            |age_group|category                       |country|gender|user_id            |\n",
      "+----------------+-----------+-----------------------------+-----------+------------------------+----------+-------+---------+-------------------+---------+-------------------------------+-------+------+-------------------+\n",
      "|USA             |ABCDFAE    |Food category target campaign|apple      |2018-10-12T13:10:05.000Z|impression|ios    |CASSBB-11|1264374214654454321|18-25    |[shopper, student]             |USA    |male  |1264374214654454321|\n",
      "|USA             |ABCDFAE    |Food category target campaign|MOTOROLA   |2018-10-12T13:09:04.000Z|impression|android|CADGBD-13|1674374214654454321|25-50    |[parent]                       |USA    |female|1674374214654454321|\n",
      "|USA             |ABCDFAE    |Food category target campaign|SAMSUNG    |2018-10-12T13:10:10.000Z|video ad  |android|BADGBA-12|5747421465445443   |25-50    |[shopper, parent, professional]|USA    |male  |5747421465445443   |\n",
      "|USA             |ABCDFAE    |Food category target campaign|SAMSUNG    |2018-10-12T13:10:12.000Z|click     |android|CASSBB-11|1864374214654454132|50+      |[professional]                 |USA    |male  |1864374214654454132|\n",
      "+----------------+-----------+-----------------------------+-----------+------------------------+----------+-------+---------+-------------------+---------+-------------------------------+-------+------+-------------------+\n",
      "\n"
     ]
    }
   ],
   "source": [
    "users=df1.join(user_profile_df, df1.user_id == user_profile_df.user_id, \"left\")\n",
    "users.show(truncate=False)"
   ]
  },
  {
   "cell_type": "code",
   "execution_count": 31,
   "id": "1ceccc02-4410-43a5-bf48-044886b29292",
   "metadata": {},
   "outputs": [
    {
     "name": "stdout",
     "output_type": "stream",
     "text": [
      "+-----------+----------+----+------+------+----------+-----+\n",
      "|campaign_id|      date|hour|  type| value|event_type|count|\n",
      "+-----------+----------+----+------+------+----------+-----+\n",
      "|    ABCDFAE|2018-10-12|  13|gender|  male|  video ad|    1|\n",
      "|    ABCDFAE|2018-09-12|  13|gender|female|impression|    1|\n",
      "|    ABCDFAE|2018-10-12|  13|gender|  male|     click|    1|\n",
      "|    ABCDFAE|2018-10-12|  13|gender|  male|impression|    1|\n",
      "+-----------+----------+----+------+------+----------+-----+\n",
      "\n"
     ]
    }
   ],
   "source": [
    "u_df=users.withColumn(\"date\",date_format(\"event_time\",'yyyy-mm-dd')).withColumn(\"hour\",hour(\"event_time\")) \\\n",
    "                   .withColumn(\"type\",lit(\"gender\")).withColumn(\"value\",col(\"gender\")) \\\n",
    "                   .select(\"campaign_id\",\"date\",\"hour\",\"type\",\"value\",\"event_type\") \\\n",
    "                   .groupBy(\"campaign_id\",\"date\",\"hour\",\"type\",\"value\",\"event_type\").count()\n",
    "u_df.show()"
   ]
  },
  {
   "cell_type": "code",
   "execution_count": 32,
   "id": "66099b7c-e134-484f-b894-bbe10b9fb24a",
   "metadata": {},
   "outputs": [
    {
     "name": "stdout",
     "output_type": "stream",
     "text": [
      "+-----------+----------+----+------+------+--------------------------------------------+\n",
      "|campaign_id|date      |hour|type  |value |event                                       |\n",
      "+-----------+----------+----+------+------+--------------------------------------------+\n",
      "|ABCDFAE    |2018-09-12|13  |gender|female|{impression -> 1}                           |\n",
      "|ABCDFAE    |2018-10-12|13  |gender|male  |{video ad -> 1, click -> 1, impression -> 1}|\n",
      "+-----------+----------+----+------+------+--------------------------------------------+\n",
      "\n"
     ]
    }
   ],
   "source": [
    "s_df_2=u_df.groupBy(\"campaign_id\",\"date\",\"hour\",\"type\",\"value\") \\\n",
    "        .agg(f.map_from_entries(f.collect_list(f.struct(\"event_type\", \"count\"))).alias(\"event\"))\n",
    "\n",
    "s_df_2.show(truncate=False)"
   ]
  },
  {
   "cell_type": "code",
   "execution_count": 33,
   "id": "9590312d-187f-403c-bd72-b4610c1a5988",
   "metadata": {},
   "outputs": [],
   "source": [
    "s_df_2.coalesce(1).write.format('json').save('/tmp/output_data/users')"
   ]
  },
  {
   "cell_type": "code",
   "execution_count": 35,
   "id": "4844b4f7-0832-4bd8-8f57-87dfae162f47",
   "metadata": {},
   "outputs": [],
   "source": [
    "s_df_2.coalesce(1).write.format('json').save('/home/kushwahahacker8356/users')"
   ]
  },
  {
   "cell_type": "code",
   "execution_count": null,
   "id": "b6e8fffd-5529-4bad-98c7-a9d41c4e4595",
   "metadata": {},
   "outputs": [],
   "source": []
  }
 ],
 "metadata": {
  "kernelspec": {
   "display_name": "Python 3 (ipykernel)",
   "language": "python",
   "name": "python3"
  },
  "language_info": {
   "codemirror_mode": {
    "name": "ipython",
    "version": 3
   },
   "file_extension": ".py",
   "mimetype": "text/x-python",
   "name": "python",
   "nbconvert_exporter": "python",
   "pygments_lexer": "ipython3",
   "version": "3.11.4"
  }
 },
 "nbformat": 4,
 "nbformat_minor": 5
}
